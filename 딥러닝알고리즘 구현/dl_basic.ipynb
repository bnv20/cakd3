{
  "nbformat": 4,
  "nbformat_minor": 0,
  "metadata": {
    "colab": {
      "name": "dl_basic.ipynb",
      "provenance": [],
      "collapsed_sections": [],
      "machine_shape": "hm",
      "mount_file_id": "1MhHXFjgHQhGtzpWMDyASMIBT6j4I4Hri",
      "authorship_tag": "ABX9TyN0WSz3AprTkFdW9Ts2NbMN",
      "include_colab_link": true
    },
    "kernelspec": {
      "name": "python3",
      "display_name": "Python 3"
    },
    "language_info": {
      "name": "python"
    },
    "accelerator": "TPU"
  },
  "cells": [
    {
      "cell_type": "markdown",
      "metadata": {
        "id": "view-in-github",
        "colab_type": "text"
      },
      "source": [
        "<a href=\"https://colab.research.google.com/github/bnv20/cakd3/blob/main/%EB%94%A5%EB%9F%AC%EB%8B%9D%EC%95%8C%EA%B3%A0%EB%A6%AC%EC%A6%98%20%EA%B5%AC%ED%98%84/dl_basic.ipynb\" target=\"_parent\"><img src=\"https://colab.research.google.com/assets/colab-badge.svg\" alt=\"Open In Colab\"/></a>"
      ]
    },
    {
      "cell_type": "code",
      "metadata": {
        "id": "QFq-zBxAs4FG"
      },
      "source": [
        "import numpy as np\n",
        "\n",
        "x = np.array([1,2,3])"
      ],
      "execution_count": null,
      "outputs": []
    },
    {
      "cell_type": "code",
      "metadata": {
        "id": "IHwK-6HawOwG",
        "colab": {
          "base_uri": "https://localhost:8080/"
        },
        "outputId": "efc59d71-b10d-4d43-bfdc-fa33bf3b82e4"
      },
      "source": [
        "x.__class__"
      ],
      "execution_count": null,
      "outputs": [
        {
          "output_type": "execute_result",
          "data": {
            "text/plain": [
              "numpy.ndarray"
            ]
          },
          "metadata": {
            "tags": []
          },
          "execution_count": 2
        }
      ]
    },
    {
      "cell_type": "code",
      "metadata": {
        "colab": {
          "base_uri": "https://localhost:8080/"
        },
        "id": "3T3FF2TXFBiO",
        "outputId": "6d9e6ec0-fbdd-4f16-a723-3edcda5de717"
      },
      "source": [
        "# shape : 다차원 배열의 형상\n",
        "x.shape"
      ],
      "execution_count": null,
      "outputs": [
        {
          "output_type": "execute_result",
          "data": {
            "text/plain": [
              "(3,)"
            ]
          },
          "metadata": {
            "tags": []
          },
          "execution_count": 3
        }
      ]
    },
    {
      "cell_type": "code",
      "metadata": {
        "colab": {
          "base_uri": "https://localhost:8080/"
        },
        "id": "gNTfZtb8FFjO",
        "outputId": "2c334d16-0fd1-4a90-d50f-8d181d1d43dc"
      },
      "source": [
        "# ndim : 차원 수\n",
        "x.ndim"
      ],
      "execution_count": null,
      "outputs": [
        {
          "output_type": "execute_result",
          "data": {
            "text/plain": [
              "1"
            ]
          },
          "metadata": {
            "tags": []
          },
          "execution_count": 5
        }
      ]
    },
    {
      "cell_type": "code",
      "metadata": {
        "colab": {
          "base_uri": "https://localhost:8080/"
        },
        "id": "rJbqzhk6FHtF",
        "outputId": "28482edb-b94f-48a2-ab4b-9d55738a6f70"
      },
      "source": [
        "w = np.arange(1,7).reshape(2,3)\n",
        "w.shape"
      ],
      "execution_count": null,
      "outputs": [
        {
          "output_type": "execute_result",
          "data": {
            "text/plain": [
              "(2, 3)"
            ]
          },
          "metadata": {
            "tags": []
          },
          "execution_count": 6
        }
      ]
    },
    {
      "cell_type": "code",
      "metadata": {
        "colab": {
          "base_uri": "https://localhost:8080/"
        },
        "id": "CZ9P7OZhFaR-",
        "outputId": "a1e4bb09-1c77-4389-ebfb-aaf8a0bfe609"
      },
      "source": [
        "w.ndim"
      ],
      "execution_count": null,
      "outputs": [
        {
          "output_type": "execute_result",
          "data": {
            "text/plain": [
              "2"
            ]
          },
          "metadata": {
            "tags": []
          },
          "execution_count": 7
        }
      ]
    },
    {
      "cell_type": "code",
      "metadata": {
        "colab": {
          "base_uri": "https://localhost:8080/"
        },
        "id": "-8wyfSoEFcX7",
        "outputId": "1f00b737-7c55-402c-b29c-f40595e2be9f"
      },
      "source": [
        "# 행렬의 원소별 연산\n",
        "W = np.arange(1,7).reshape(2,3)\n",
        "X = np.arange(6).reshape(2,3)\n",
        "W + X"
      ],
      "execution_count": null,
      "outputs": [
        {
          "output_type": "execute_result",
          "data": {
            "text/plain": [
              "array([[ 1,  3,  5],\n",
              "       [ 7,  9, 11]])"
            ]
          },
          "metadata": {
            "tags": []
          },
          "execution_count": 8
        }
      ]
    },
    {
      "cell_type": "code",
      "metadata": {
        "colab": {
          "base_uri": "https://localhost:8080/"
        },
        "id": "PN4Bz0UlGLU-",
        "outputId": "18b884ca-eb9f-4f95-d3de-e99b656a4ad3"
      },
      "source": [
        "W * X"
      ],
      "execution_count": null,
      "outputs": [
        {
          "output_type": "execute_result",
          "data": {
            "text/plain": [
              "array([[ 0,  2,  6],\n",
              "       [12, 20, 30]])"
            ]
          },
          "metadata": {
            "tags": []
          },
          "execution_count": 9
        }
      ]
    },
    {
      "cell_type": "code",
      "metadata": {
        "colab": {
          "base_uri": "https://localhost:8080/"
        },
        "id": "Hw-fzRGyGN51",
        "outputId": "4c539c56-fb3b-42c7-aa58-8c84f8eaf630"
      },
      "source": [
        "# 브로드캐스트\n",
        "A = np.arange(1,5).reshape(2,2)\n",
        "A * 10"
      ],
      "execution_count": null,
      "outputs": [
        {
          "output_type": "execute_result",
          "data": {
            "text/plain": [
              "array([[10, 20],\n",
              "       [30, 40]])"
            ]
          },
          "metadata": {
            "tags": []
          },
          "execution_count": 10
        }
      ]
    },
    {
      "cell_type": "code",
      "metadata": {
        "colab": {
          "base_uri": "https://localhost:8080/"
        },
        "id": "cFOcengPGhwW",
        "outputId": "9d2b723d-149b-43e5-9e97-bd012f590e75"
      },
      "source": [
        "A = np.arange(1,5).reshape(2,2)\n",
        "b = np.array([10,20])\n",
        "A * b"
      ],
      "execution_count": null,
      "outputs": [
        {
          "output_type": "execute_result",
          "data": {
            "text/plain": [
              "array([[10, 40],\n",
              "       [30, 80]])"
            ]
          },
          "metadata": {
            "tags": []
          },
          "execution_count": 11
        }
      ]
    },
    {
      "cell_type": "markdown",
      "metadata": {
        "id": "VHx7V96CFrg8"
      },
      "source": [
        "벡터와 행렬의 연산 : https://datascienceschool.net/02%20mathematics/02.02%20%EB%B2%A1%ED%84%B0%EC%99%80%20%ED%96%89%EB%A0%AC%EC%9D%98%20%EC%97%B0%EC%82%B0.html"
      ]
    },
    {
      "cell_type": "code",
      "metadata": {
        "id": "_FLfc_RTGuBb",
        "colab": {
          "base_uri": "https://localhost:8080/"
        },
        "outputId": "5ef0431e-618d-4623-ca7c-95bdff35c3ee"
      },
      "source": [
        "# 행렬의 곱\n",
        "# 넘파이에서 벡터와 행렬의 내적은 dot()이라는 명령 또는 @(at이라고 읽는다)이라는 연산자로 계산한다. 2차원 배열로 표시한 벡터를 내적했을 때는 결과값이 스칼라가 아닌 2차원 배열\n",
        "import numpy as np\n",
        "x = np.array([[1],[2],[3]])\n",
        "y = np.array([[4],[5],[6]])\n",
        "print(x,'\\n')\n",
        "print(y)\n",
        "print(x.T)\n",
        "np.dot(x.T,y)\n",
        "# x.T@y"
      ],
      "execution_count": null,
      "outputs": [
        {
          "output_type": "stream",
          "text": [
            "[[1]\n",
            " [2]\n",
            " [3]] \n",
            "\n",
            "[[4]\n",
            " [5]\n",
            " [6]]\n",
            "[[1 2 3]]\n"
          ],
          "name": "stdout"
        },
        {
          "output_type": "execute_result",
          "data": {
            "text/plain": [
              "array([[32]])"
            ]
          },
          "metadata": {
            "tags": []
          },
          "execution_count": 10
        }
      ]
    },
    {
      "cell_type": "code",
      "metadata": {
        "colab": {
          "base_uri": "https://localhost:8080/"
        },
        "id": "HqTjqHUXGbut",
        "outputId": "beaf1c55-6569-4b84-fed1-aa30b10915a9"
      },
      "source": [
        "x = np.array([[1,2],[3,4]])\n",
        "y = np.array([[5,6],[7,8]])\n",
        "np.matmul(x,y)\n",
        "print(x,'\\n')\n",
        "print(x.T,'\\n')\n",
        "print(np.dot(x,y),'\\n')\n",
        "print(np.dot(x.T,y))"
      ],
      "execution_count": null,
      "outputs": [
        {
          "output_type": "stream",
          "text": [
            "[[1 2]\n",
            " [3 4]] \n",
            "\n",
            "[[1 3]\n",
            " [2 4]] \n",
            "\n",
            "[[19 22]\n",
            " [43 50]] \n",
            "\n",
            "[[26 30]\n",
            " [38 44]]\n"
          ],
          "name": "stdout"
        }
      ]
    },
    {
      "cell_type": "code",
      "metadata": {
        "colab": {
          "base_uri": "https://localhost:8080/"
        },
        "id": "YSwSy5KfFFbk",
        "outputId": "ea8052dc-06f0-42df-8ffa-94351d00d460"
      },
      "source": [
        "# 벡터의 내적\n",
        "# 넘파이에서는 1차원 배열끼리도 내적을 계산한다. 이때는 넘파이가 앞의 벡터는 행 벡터이고 뒤의 벡터는 열 벡터라고 가정\n",
        "x = np.array([1,2,3])\n",
        "y = np.array([4,5,6])\n",
        "print(x)\n",
        "print(y)\n",
        "print(np.dot(x,y))\n",
        "# x@y\n",
        "print(np.dot(x.T,y))"
      ],
      "execution_count": null,
      "outputs": [
        {
          "output_type": "stream",
          "text": [
            "[1 2 3]\n",
            "[4 5 6]\n",
            "32\n",
            "32\n"
          ],
          "name": "stdout"
        }
      ]
    },
    {
      "cell_type": "code",
      "metadata": {
        "colab": {
          "base_uri": "https://localhost:8080/"
        },
        "id": "PmK_HQAl3Bcf",
        "outputId": "97561631-2d91-45d9-8f07-b7f546cb74cd"
      },
      "source": [
        "# 대각 행렬\n",
        "import numpy as np\n",
        "print(1+np.arange(4))\n",
        "z = np.diag(1+np.arange(4),k=0)\n",
        "z"
      ],
      "execution_count": null,
      "outputs": [
        {
          "output_type": "stream",
          "text": [
            "[1 2 3 4]\n"
          ],
          "name": "stdout"
        },
        {
          "output_type": "execute_result",
          "data": {
            "text/plain": [
              "array([[1, 0, 0, 0],\n",
              "       [0, 2, 0, 0],\n",
              "       [0, 0, 3, 0],\n",
              "       [0, 0, 0, 4]])"
            ]
          },
          "metadata": {
            "tags": []
          },
          "execution_count": 3
        }
      ]
    },
    {
      "cell_type": "code",
      "metadata": {
        "colab": {
          "base_uri": "https://localhost:8080/"
        },
        "id": "HApl6BP25mKZ",
        "outputId": "c25d9114-eebf-47b8-8f40-fb448845d373"
      },
      "source": [
        "import numpy as np\n",
        "x = np.random.randn(10,2) # (10,2)\n",
        "W1 = np.random.randn(2,4) # (2,4) \n",
        "b1 = np.random.randn(4)\n",
        "h = np.matmul(x,W1) + b1\n",
        "print(x,'\\n')\n",
        "print(W1,'\\n')\n",
        "print(b1,'\\n')\n",
        "h"
      ],
      "execution_count": null,
      "outputs": [
        {
          "output_type": "stream",
          "text": [
            "[[ 1.07009536 -0.74802875]\n",
            " [ 0.20017814  2.63444909]\n",
            " [ 1.09058625  0.58155289]\n",
            " [-0.42522788  0.38338053]\n",
            " [ 0.63038761  0.44019293]\n",
            " [ 1.52011254 -1.1878602 ]\n",
            " [ 0.43441376  0.82846918]\n",
            " [-0.46844803  1.49982254]\n",
            " [ 1.86855151 -1.09671943]\n",
            " [-0.81296632 -0.5448657 ]] \n",
            "\n",
            "[[ 1.35465846 -0.84272471  0.28581423 -0.10599414]\n",
            " [ 1.74887925  1.19288307 -0.93936874 -0.56138565]] \n",
            "\n",
            "[-0.30741095  0.3484758  -0.04971604  0.28713161] \n",
            "\n"
          ],
          "name": "stdout"
        },
        {
          "output_type": "execute_result",
          "data": {
            "text/plain": [
              "array([[-0.16600918, -1.44563083,  0.95880727,  0.59364037],\n",
              "       [ 4.57109541,  3.32237046, -2.4672214 , -1.21302801],\n",
              "       [ 2.18702672,  0.12313642, -0.28430358, -0.15493959],\n",
              "       [-0.21296325,  1.16415399, -0.53138791,  0.11697895],\n",
              "       [ 1.31639324,  0.34233128, -0.28304577, -0.02680378],\n",
              "       [-0.3256017 , -2.34953892,  1.5005925 ,  0.79285625],\n",
              "       [ 1.72996388,  0.97065144, -0.70379245, -0.22400441],\n",
              "       [ 1.6810105 ,  2.53236145, -1.59249157, -0.50519449],\n",
              "       [ 0.30580829, -2.53445678,  1.51456653,  0.70475865],\n",
              "       [-2.36160698,  0.38362154,  0.22975643,  0.67918107]])"
            ]
          },
          "metadata": {
            "tags": []
          },
          "execution_count": 6
        }
      ]
    },
    {
      "cell_type": "code",
      "metadata": {
        "colab": {
          "base_uri": "https://localhost:8080/"
        },
        "id": "4vHEaz4G7he6",
        "outputId": "67226a16-2b67-4a4c-9824-0eb291450130"
      },
      "source": [
        "# 완전연결계층에 의한 변환은 선형 변환인 반면 '비선형 효과를 부여하는 것이 활성화 함수\n",
        "# 시그모이드 함수 : 임의의 실수를 입력받아 0에서 1사이의 실수를 반환\n",
        "\n",
        "def sigmoid(x):\n",
        "  return 1 / ( 1 + np.exp(-x))\n",
        "\n",
        "a = sigmoid(h)\n",
        "a"
      ],
      "execution_count": null,
      "outputs": [
        {
          "output_type": "execute_result",
          "data": {
            "text/plain": [
              "array([[0.45859276, 0.1906749 , 0.72288294, 0.64419998],\n",
              "       [0.98975934, 0.96518833, 0.07818827, 0.22916572],\n",
              "       [0.89907844, 0.53074527, 0.42939901, 0.46134241],\n",
              "       [0.4469595 , 0.7620867 , 0.37019324, 0.52921143],\n",
              "       [0.78858101, 0.58475671, 0.42970722, 0.49329946],\n",
              "       [0.41931118, 0.08710243, 0.81766283, 0.68844429],\n",
              "       [0.8494078 , 0.72524933, 0.33097193, 0.4442319 ],\n",
              "       [0.84303829, 0.92637957, 0.16903364, 0.37632072],\n",
              "       [0.57586178, 0.07347766, 0.81973698, 0.66924198],\n",
              "       [0.0861476 , 0.59474628, 0.55718776, 0.6635559 ]])"
            ]
          },
          "metadata": {
            "tags": []
          },
          "execution_count": 8
        }
      ]
    },
    {
      "cell_type": "code",
      "metadata": {
        "colab": {
          "base_uri": "https://localhost:8080/"
        },
        "id": "if0TtgHV8rip",
        "outputId": "62bf786c-a9d5-49b6-8d40-af35e330ec35"
      },
      "source": [
        "# x의 형상 (10,2), 최종 출력인 s의 형상은 (10,3)\n",
        "# 10개의 데이터가 한꺼번에 처리되었고 각 데이터는 3차원 데이터로 변환됨\n",
        "# 각 차원의 값을 이용하여 3 클래스 분류 수행. 출력된 각 차원은 각 클래스에 대응하는 점수\n",
        "# 실제로 분류를 하면 출력층에서 가장 큰 값을 보여주는 뉴런에 해당하는 클래스가 예측 결과가 된다.\n",
        "import numpy as np\n",
        "x = np.random.randn(10,2) # (10,2)\n",
        "W1 = np.random.randn(2,4) # (2,4) \n",
        "b1 = np.random.randn(4)\n",
        "\n",
        "W2 = np.random.randn(4,3)\n",
        "b2 = np.random.randn(3)\n",
        "\n",
        "h = np.matmul(x,W1) + b1\n",
        "a = sigmoid(h)\n",
        "s = np.matmul(a, W2) + b2\n",
        "print(a,'\\n')\n",
        "print(W2,'\\n')\n",
        "print(b2,'\\n')\n",
        "print(s)"
      ],
      "execution_count": null,
      "outputs": [
        {
          "output_type": "stream",
          "text": [
            "[[0.22662351 0.78819635 0.72005048 0.90849412]\n",
            " [0.22032094 0.68688021 0.87143223 0.70471832]\n",
            " [0.37098877 0.8310244  0.8603324  0.98110143]\n",
            " [0.42353606 0.88733968 0.79181003 0.99579914]\n",
            " [0.31708423 0.81361424 0.82728383 0.965163  ]\n",
            " [0.15371323 0.52676184 0.91316772 0.18478635]\n",
            " [0.42204245 0.79559501 0.93786416 0.97399721]\n",
            " [0.36584324 0.64689098 0.97637718 0.79359675]\n",
            " [0.13037299 0.61640352 0.77520287 0.31391855]\n",
            " [0.36053866 0.7642152  0.9275176  0.9428473 ]] \n",
            "\n",
            "[[ 1.30668295e-03  3.05092338e-01  8.10245818e-01]\n",
            " [ 6.88933209e-01  1.06226952e+00 -4.21917792e-01]\n",
            " [-1.56238895e-01 -1.63612219e+00 -1.03109656e+00]\n",
            " [-2.06543568e-02 -1.12080183e+00 -1.51809984e+00]] \n",
            "\n",
            "[0.16096142 0.44118632 0.63117988] \n",
            "\n",
            "[[ 0.57300793 -0.84872806 -1.63937977]\n",
            " [ 0.48375678 -0.97756274 -1.44847653]\n",
            " [ 0.57928509 -1.07008516 -1.7953477 ]\n",
            " [ 0.6285535  -0.89859364 -1.72819131]\n",
            " [ 0.57271288 -1.03308999 -1.77340557]\n",
            " [ 0.37757704 -0.65351676 -0.68861303]\n",
            " [ 0.54297658 -1.21103365 -1.8081912 ]\n",
            " [ 0.43816482 -1.24696219 -1.55683022]\n",
            " [ 0.45819201 -0.48441831 -0.79912628]\n",
            " [ 0.52353753 -1.21129068 -1.78682771]]\n"
          ],
          "name": "stdout"
        }
      ]
    },
    {
      "cell_type": "code",
      "metadata": {
        "colab": {
          "base_uri": "https://localhost:8080/"
        },
        "id": "fZXJN8-cPYaw",
        "outputId": "fff51bc6-bd6b-42dd-dff9-8d3658297de2"
      },
      "source": [
        "# + 연산자는 리스트를 결합\n",
        "a = ['A','B']\n",
        "a += ['C','D']\n",
        "a"
      ],
      "execution_count": null,
      "outputs": [
        {
          "output_type": "execute_result",
          "data": {
            "text/plain": [
              "['A', 'B', 'C', 'D']"
            ]
          },
          "metadata": {
            "tags": []
          },
          "execution_count": 13
        }
      ]
    },
    {
      "cell_type": "markdown",
      "metadata": {
        "id": "GJpiYCqcONva"
      },
      "source": [
        "오차역전파법 : https://deep-learning-study.tistory.com/18"
      ]
    },
    {
      "cell_type": "code",
      "metadata": {
        "colab": {
          "base_uri": "https://localhost:8080/"
        },
        "id": "Z1IWhtIM_YN0",
        "outputId": "cbcf583f-c9e2-4307-95db-bc3a73c0bc33"
      },
      "source": [
        "# 입력 데이터 x에 대한 점수(s)를 도출\n",
        "# 어파인 변환(affine transformation)은 신경망 순전파 때 수행하는 행렬의 곱을 기하학에서 부르는 이름입니다. \n",
        "# 어파인 변환을 수행하는 처리를 'Affine'계층 이라는 이름으로 구현\n",
        "# coding: utf-8\n",
        "import numpy as np\n",
        "\n",
        "class Sigmoid:\n",
        "    def __init__(self):\n",
        "        self.params = []\n",
        "\n",
        "    def forward(self, x):\n",
        "        return 1 / (1 + np.exp(-x))\n",
        "\n",
        "class Affine:\n",
        "    def __init__(self, W, b):\n",
        "        self.params = [W, b]\n",
        "\n",
        "    def forward(self, x):\n",
        "        W, b = self.params\n",
        "        out = np.dot(x, W) + b\n",
        "        return out\n",
        "\n",
        "class TwoLayerNet:\n",
        "    def __init__(self, input_size, hidden_size, output_size):\n",
        "        I, H, O = input_size, hidden_size, output_size\n",
        "\n",
        "        # 가중치와 편향 초기화\n",
        "        W1 = np.random.randn(I, H)\n",
        "        b1 = np.random.randn(H)\n",
        "        W2 = np.random.randn(H, O)\n",
        "        b2 = np.random.randn(O)\n",
        "\n",
        "        # 계층 생성\n",
        "        self.layers = [\n",
        "            Affine(W1, b1),\n",
        "            Sigmoid(),\n",
        "            Affine(W2, b2)\n",
        "        ]\n",
        "\n",
        "        # 모든 가중치를 리스트에 모은다.\n",
        "        self.params = []\n",
        "        for layer in self.layers:\n",
        "            self.params += layer.params\n",
        "\n",
        "    def predict(self, x):\n",
        "        for layer in self.layers:\n",
        "            x = layer.forward(x)\n",
        "        return x\n",
        "\n",
        "x = np.random.randn(10, 2)\n",
        "model = TwoLayerNet(2, 4, 3)\n",
        "s = model.predict(x)\n",
        "print(s)"
      ],
      "execution_count": null,
      "outputs": [
        {
          "output_type": "stream",
          "text": [
            "[[-0.01548227 -0.85746952 -0.71468238]\n",
            " [-0.01617994 -0.85474196 -0.71926361]\n",
            " [-0.08196978 -0.49171307 -0.99569699]\n",
            " [-0.03590128 -0.74928466 -0.80056424]\n",
            " [ 0.17878753 -1.83770643  0.15745123]\n",
            " [-0.2603716   0.27694838 -1.70485955]\n",
            " [-0.00555661 -0.9565083  -0.59818357]\n",
            " [ 0.07723278 -1.35303519 -0.26808887]\n",
            " [-0.20366055  0.08210232 -1.5196958 ]\n",
            " [ 0.21076525 -1.89728964  0.18614705]]\n"
          ],
          "name": "stdout"
        }
      ]
    },
    {
      "cell_type": "code",
      "metadata": {
        "colab": {
          "base_uri": "https://localhost:8080/"
        },
        "id": "_aZXt6igM7G3",
        "outputId": "ed1f39bc-a62b-4b4b-da99-146fdaad8d02"
      },
      "source": [
        "import numpy as np\n",
        "D,N=8,7\n",
        "x = np.random.randn(1,D)\n",
        "y = np.repeat(x, N, axis=0) # 순전파\n",
        "dy = np.random.randn(N,D)\n",
        "dx = np.sum(dy,axis=0, keepdims=True) # 역전파\n",
        "print(x,'\\n')\n",
        "print(y,'\\n')\n",
        "print(dy,'\\n')\n",
        "dx"
      ],
      "execution_count": null,
      "outputs": [
        {
          "output_type": "stream",
          "text": [
            "[[-1.60324712 -0.34500018 -1.57598225  0.03125475  0.17804284  0.45145712\n",
            "  -1.54330074 -0.89069685]] \n",
            "\n",
            "[[-1.60324712 -0.34500018 -1.57598225  0.03125475  0.17804284  0.45145712\n",
            "  -1.54330074 -0.89069685]\n",
            " [-1.60324712 -0.34500018 -1.57598225  0.03125475  0.17804284  0.45145712\n",
            "  -1.54330074 -0.89069685]\n",
            " [-1.60324712 -0.34500018 -1.57598225  0.03125475  0.17804284  0.45145712\n",
            "  -1.54330074 -0.89069685]\n",
            " [-1.60324712 -0.34500018 -1.57598225  0.03125475  0.17804284  0.45145712\n",
            "  -1.54330074 -0.89069685]\n",
            " [-1.60324712 -0.34500018 -1.57598225  0.03125475  0.17804284  0.45145712\n",
            "  -1.54330074 -0.89069685]\n",
            " [-1.60324712 -0.34500018 -1.57598225  0.03125475  0.17804284  0.45145712\n",
            "  -1.54330074 -0.89069685]\n",
            " [-1.60324712 -0.34500018 -1.57598225  0.03125475  0.17804284  0.45145712\n",
            "  -1.54330074 -0.89069685]] \n",
            "\n",
            "[[-0.94549073  0.72174531 -0.06414223  0.46418085 -0.16960443 -0.78103233\n",
            "  -1.09882873 -0.62982712]\n",
            " [-1.74284378  0.34741456  0.80635323  1.95542689 -0.26648036  0.28032904\n",
            "  -0.81222856 -0.51527901]\n",
            " [ 0.63087939 -1.26753785  0.06730358 -1.53913734  0.93914718 -1.04867098\n",
            "   0.60592782  0.90695417]\n",
            " [ 0.22600083  0.08665311 -1.50122724 -0.80624724 -0.09021748  0.57236147\n",
            "   0.05692959 -0.16336707]\n",
            " [ 0.86607432  0.08069988  2.30240723 -1.43720118 -0.05245486 -1.48815061\n",
            "   0.02246176  1.46382558]\n",
            " [ 0.74289163  0.08359335 -0.06847737 -1.2510281   1.01233509 -1.37441763\n",
            "  -0.13602774 -0.06495807]\n",
            " [ 0.62697754 -1.11095812  0.21561656  0.33853771 -1.00010519 -2.05617177\n",
            "  -1.10563868  0.32796335]] \n",
            "\n"
          ],
          "name": "stdout"
        },
        {
          "output_type": "execute_result",
          "data": {
            "text/plain": [
              "array([[ 0.4044892 , -1.05838976,  1.75783377, -2.27546841,  0.37261994,\n",
              "        -5.89575281, -2.46740453,  1.32531184]])"
            ]
          },
          "metadata": {
            "tags": []
          },
          "execution_count": 3
        }
      ]
    },
    {
      "cell_type": "code",
      "metadata": {
        "colab": {
          "base_uri": "https://localhost:8080/"
        },
        "id": "wh-GRGgVPnIa",
        "outputId": "bcfb1980-5418-4277-cc5a-46d906c44c9f"
      },
      "source": [
        "import numpy as np\n",
        "D,N=8,7\n",
        "x = np.random.randn(N,D)\n",
        "y = np.sum(x, axis=0, keepdims=True) # 2차원 배열의 차원 수 유지, 순전파\n",
        "dy = np.random.randn(1,D)\n",
        "dx = np.repeat(dy,N, axis=0) # 역전파\n",
        "print(x,'\\n')\n",
        "print(y,'\\n')\n",
        "print(dy,'\\n')\n",
        "dx"
      ],
      "execution_count": null,
      "outputs": [
        {
          "output_type": "stream",
          "text": [
            "[[-0.55507248 -0.59622093  2.74362098 -1.3197828  -0.1597511  -2.40682901\n",
            "   0.23473893  0.19116275]\n",
            " [-0.4541125  -1.2323671  -0.81910583 -1.79925584 -0.32964541  0.4548777\n",
            "  -1.45540176  0.3139226 ]\n",
            " [ 0.11892685 -0.43342989 -0.37048607  0.70203403 -0.25446656 -0.25113857\n",
            "   1.36983652 -0.72229295]\n",
            " [ 0.69670845  0.64037641  0.43767146  0.2401948   1.05149022 -0.75763872\n",
            "   0.12164326  0.03069671]\n",
            " [ 1.11862079 -1.35147652  1.61604017 -0.51477204  0.05373985  0.35408918\n",
            "  -0.98561528 -0.46346739]\n",
            " [-0.62876894  0.41607393 -0.49588276  0.2768972  -0.2552704   0.56712621\n",
            "  -0.01377866 -2.36910619]\n",
            " [-0.2241953  -0.14966456  0.2929398  -0.30772187 -0.23386472 -1.2887175\n",
            "  -0.35253286 -1.1248174 ]] \n",
            "\n",
            "[[ 0.07210688 -2.70670865  3.40479776 -2.72240652 -0.12776813 -3.32823072\n",
            "  -1.08110984 -4.14390187]] \n",
            "\n",
            "[[-1.07079558 -1.15984075 -1.26313698  0.75425669 -0.77257982 -1.00712305\n",
            "  -0.20350133 -1.37439778]] \n",
            "\n"
          ],
          "name": "stdout"
        },
        {
          "output_type": "execute_result",
          "data": {
            "text/plain": [
              "array([[-1.07079558, -1.15984075, -1.26313698,  0.75425669, -0.77257982,\n",
              "        -1.00712305, -0.20350133, -1.37439778],\n",
              "       [-1.07079558, -1.15984075, -1.26313698,  0.75425669, -0.77257982,\n",
              "        -1.00712305, -0.20350133, -1.37439778],\n",
              "       [-1.07079558, -1.15984075, -1.26313698,  0.75425669, -0.77257982,\n",
              "        -1.00712305, -0.20350133, -1.37439778],\n",
              "       [-1.07079558, -1.15984075, -1.26313698,  0.75425669, -0.77257982,\n",
              "        -1.00712305, -0.20350133, -1.37439778],\n",
              "       [-1.07079558, -1.15984075, -1.26313698,  0.75425669, -0.77257982,\n",
              "        -1.00712305, -0.20350133, -1.37439778],\n",
              "       [-1.07079558, -1.15984075, -1.26313698,  0.75425669, -0.77257982,\n",
              "        -1.00712305, -0.20350133, -1.37439778],\n",
              "       [-1.07079558, -1.15984075, -1.26313698,  0.75425669, -0.77257982,\n",
              "        -1.00712305, -0.20350133, -1.37439778]])"
            ]
          },
          "metadata": {
            "tags": []
          },
          "execution_count": 4
        }
      ]
    },
    {
      "cell_type": "markdown",
      "metadata": {
        "id": "b7eWoO9uSJg7"
      },
      "source": [
        "np.dot과 np.matmul의 차이 : \n",
        "- https://jlog1016.tistory.com/80 \n",
        "- https://cyber0946.tistory.com/64\n"
      ]
    },
    {
      "cell_type": "code",
      "metadata": {
        "id": "OV6GcekvSSZZ"
      },
      "source": [
        "class MatMul:\n",
        "    def __init__(self, W):\n",
        "        self.params = [W]\n",
        "        self.grads = [np.zeros_like(W)]\n",
        "        self.x = None\n",
        "\n",
        "    def forward(self, x):\n",
        "        W, = self.params\n",
        "        out = np.dot(x, W)\n",
        "        self.x = x\n",
        "        return out\n",
        "\n",
        "    def backward(self, dout):\n",
        "        W, = self.params\n",
        "        dx = np.dot(dout, W.T)\n",
        "        dW = np.dot(self.x.T, dout)\n",
        "        self.grads[0][...] = dW\n",
        "        return dx"
      ],
      "execution_count": null,
      "outputs": []
    }
  ]
}